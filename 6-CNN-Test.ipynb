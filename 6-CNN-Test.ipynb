{
 "cells": [
  {
   "cell_type": "code",
   "execution_count": 1,
   "metadata": {
    "collapsed": true
   },
   "outputs": [],
   "source": [
    "import os\n",
    "import time\n",
    "import pandas as pd\n",
    "import numpy as np\n",
    "import matplotlib.image as mpimg\n",
    "import matplotlib.pyplot as plt\n",
    "import tensorflow as tf\n",
    "import math"
   ]
  },
  {
   "cell_type": "code",
   "execution_count": 2,
   "metadata": {
    "collapsed": false
   },
   "outputs": [
    {
     "data": {
      "text/plain": [
       "(990, 85, 54, 1)"
      ]
     },
     "execution_count": 2,
     "metadata": {},
     "output_type": "execute_result"
    }
   ],
   "source": [
    "# load attributes \n",
    "data_dir = os.getcwd() + '\\\\Data\\\\'\n",
    "train_data = pd.read_csv(data_dir + 'train.csv')\n",
    "train_labels = pd.read_csv(data_dir + 'train_labels.csv')\n",
    "train_label_bits = np.genfromtxt(data_dir + 'train_label_bits.csv', delimiter=',', dtype=np.float32) \n",
    "\n",
    "# loading revised images\n",
    "image_dir = data_dir + 'images\\\\res_rev_05\\\\' \n",
    "\n",
    "# total count of samples\n",
    "sample_count = 1584\n",
    "\n",
    "# load images\n",
    "images = []\n",
    "for image_label in range(sample_count):\n",
    "    image = mpimg.imread(image_dir + str(image_label + 1) + '.jpg')\n",
    "    images.append(image)\n",
    "    \n",
    "images = np.array(images)\n",
    "\n",
    "train_images = images[train_data['id'] - 1]\n",
    "train_images = np.reshape(train_images, (len(train_data), images[0].shape[0], images[0].shape[1], -1))\n",
    "train_images.shape"
   ]
  },
  {
   "cell_type": "code",
   "execution_count": 3,
   "metadata": {
    "collapsed": false
   },
   "outputs": [
    {
     "name": "stdout",
     "output_type": "stream",
     "text": [
      "Image Count:  1584\n",
      "Image Size:  85 X 54\n",
      "Train Count:  990\n",
      "Specy Count:  99\n"
     ]
    }
   ],
   "source": [
    "TOTAL_COUNT = len(images)\n",
    "TRAIN_COUNT = len(train_data) # training image count in input csv file\n",
    "IMAGE_WIDTH  = images[0].shape[0] # input image width\n",
    "IMAGE_HEIGHT = images[0].shape[1] # input image height\n",
    "OUTPUT_TYPE_COUNT = len(list(set(train_data['species'])))\n",
    "print('Image Count: ', TOTAL_COUNT)\n",
    "print('Image Size: ', IMAGE_WIDTH , 'X' , IMAGE_HEIGHT)\n",
    "print('Train Count: ', TRAIN_COUNT)\n",
    "print('Specy Count: ', OUTPUT_TYPE_COUNT)"
   ]
  },
  {
   "cell_type": "code",
   "execution_count": 4,
   "metadata": {
    "collapsed": true
   },
   "outputs": [],
   "source": [
    "ITERATION_COUNT = 2000\n",
    "ACCURACY_CHECK = 100\n",
    "BATCH_SIZE = 30"
   ]
  },
  {
   "cell_type": "code",
   "execution_count": 5,
   "metadata": {
    "collapsed": true
   },
   "outputs": [],
   "source": [
    "# the batch size equals to BATCH_SIZE it will\n",
    "# starts from 0 to until the last index of\n",
    "# batch equals to TOTAL_COUNT\n",
    "BATCH_COUNTER = 0\n",
    "\n",
    "def next_batch(all_images, all_labels):\n",
    "    \n",
    "    # accessing BATCH_COUNTER inside function\n",
    "    global BATCH_COUNTER\n",
    "    \n",
    "    # check if exceeds to the last index then reset batch_counter\n",
    "    if BATCH_COUNTER == len(all_labels) / BATCH_SIZE:\n",
    "        BATCH_COUNTER = 0\n",
    "\n",
    "    # setting first and last index of data\n",
    "    index_from = BATCH_COUNTER * BATCH_SIZE\n",
    "    index_to   = (BATCH_COUNTER + 1) * BATCH_SIZE\n",
    "    \n",
    "    # loading a batch of training images and labels\n",
    "    image_batch = all_images[index_from:index_to]\n",
    "    label_batch = all_labels[index_from:index_to]\n",
    "    \n",
    "    # incrementing batch_counter for the next iteration\n",
    "    BATCH_COUNTER += 1 \n",
    "    \n",
    "    return image_batch, label_batch;"
   ]
  },
  {
   "cell_type": "code",
   "execution_count": 6,
   "metadata": {
    "collapsed": false
   },
   "outputs": [
    {
     "name": "stdout",
     "output_type": "stream",
     "text": [
      "100 : 0.7 86.0788 0.0028599449585957402\n",
      "200 : 1.0 3.9024 0.0027253408546186733\n",
      "300 : 1.0 0.317227 0.002597301470257133\n",
      "400 : 1.0 0.0441488 0.00247550664035748\n",
      "500 : 1.0 0.0408979 0.00235965181440487\n",
      "600 : 1.0 0.0225966 0.0022494472949883388\n",
      "700 : 1.0 0.0167499 0.002144617513406374\n",
      "800 : 1.0 0.0238801 0.002044900340601626\n",
      "900 : 1.0 0.0219701 0.0019500464317017275\n",
      "1000 : 1.0 0.01168 0.001859818602527234\n",
      "1100 : 1.0 0.00911404 0.0017739912365076311\n",
      "1200 : 1.0 0.0146066 0.0016923497205223927\n",
      "1300 : 1.0 0.00495557 0.0016146899082563886\n",
      "1400 : 1.0 0.0166068 0.0015408176097277636\n",
      "1500 : 1.0 0.00705147 0.001470548105711835\n",
      "1600 : 1.0 0.00495557 0.0014037056858468126\n",
      "1700 : 1.0 0.00818181 0.0013401232092663722\n",
      "1800 : 1.0 0.00573699 0.0012796416866604299\n",
      "1900 : 1.0 0.00430004 0.0012221098827190522\n",
      "2000 : 1.0 0.0057396 0.0011673839379654077\n"
     ]
    }
   ],
   "source": [
    "C0 = 1   # input channel count\n",
    "C1 = 4   # convolutional network channel 1 count \n",
    "C2 = 8   # convolutional network channel 2 count\n",
    "C3 = 12  # convolutional network channel 3 count\n",
    "C4 = 200 # fulley connected layer size\n",
    "C5 = OUTPUT_TYPE_COUNT  # output count \n",
    "\n",
    "# weights\n",
    "W1 = tf.Variable(tf.truncated_normal([5, 5, C0, C1], stddev = 0.1)) \n",
    "W2 = tf.Variable(tf.truncated_normal([5, 5, C1, C2], stddev = 0.1))\n",
    "W3 = tf.Variable(tf.truncated_normal([4, 4, C2, C3], stddev = 0.1))\n",
    "W4 = tf.Variable(tf.truncated_normal([22 * 14 * C3, C4], stddev = 0.1))\n",
    "W5 = tf.Variable(tf.truncated_normal([C4, C5], stddev = 0.1))\n",
    "    \n",
    "# biases\n",
    "B1 = tf.Variable(tf.ones([C1]) / 10)\n",
    "B2 = tf.Variable(tf.ones([C2]) / 10)\n",
    "B3 = tf.Variable(tf.ones([C3]) / 10)\n",
    "B4 = tf.Variable(tf.ones([C4]) / 10)\n",
    "B5 = tf.Variable(tf.ones([C5]) / 10)\n",
    "\n",
    "# model\n",
    "stride = 1  # output is 85x54\n",
    "X   = tf.placeholder(tf.float32, shape=[None, IMAGE_WIDTH, IMAGE_HEIGHT, C0])\n",
    "Y1  = tf.nn.relu(tf.nn.conv2d(X, W1, strides=[1, stride, stride, 1], padding='SAME') + B1)\n",
    "stride = 2  # output is 43x27\n",
    "Y2 = tf.nn.relu(tf.nn.conv2d(Y1, W2, strides=[1, stride, stride, 1], padding='SAME') + B2)\n",
    "stride = 2  # output is 22x14\n",
    "Y3 = tf.nn.relu(tf.nn.conv2d(Y2, W3, strides=[1, stride, stride, 1], padding='SAME') + B3)\n",
    "    \n",
    "# reshape the output from the third convolution for the fully connected layer\n",
    "YY = tf.reshape(Y3, shape=[-1, 22 * 14 * C3])\n",
    "Y4 = tf.nn.relu(tf.matmul(YY, W4) + B4)\n",
    "Ylogits = tf.matmul(Y4, W5) + B5\n",
    "Y = tf.nn.softmax(Ylogits)\n",
    "                      \n",
    "# paceholder for learing_rate variable\n",
    "lr = tf.placeholder(tf.float32)\n",
    "    \n",
    "# placeholder for correct answers\n",
    "Y_ = tf.placeholder(tf.float32, [None, C5])\n",
    "    \n",
    "cross_entropy = tf.nn.softmax_cross_entropy_with_logits(logits = Ylogits, labels = Y_)\n",
    "cross_entropy = tf.reduce_mean(cross_entropy) * 100\n",
    "    \n",
    "# accuracy of the trained model, between 0 (worst) and 1 (best)\n",
    "correct_prediction = tf.equal(tf.argmax(Y, 1), tf.argmax(Y_, 1))\n",
    "accuracy = tf.reduce_mean(tf.cast(correct_prediction, tf.float32))\n",
    "    \n",
    "# training step, the learning rate is a placeholder\n",
    "train_step = tf.train.AdamOptimizer(lr).minimize(cross_entropy)\n",
    "\n",
    "# initialisation\n",
    "tf.set_random_seed(0)\n",
    "init = tf.global_variables_initializer()\n",
    "\n",
    "# start computation\n",
    "sess = tf.Session()\n",
    "sess.run(init)\n",
    "    \n",
    "for i in range(ITERATION_COUNT):\n",
    "    \n",
    "    # learning rate decay\n",
    "    max_learning_rate = 0.003\n",
    "    min_learning_rate = 0.0001\n",
    "    decay_speed = 2000.0 # 0.003-0.0001-2000=>0.9826 done in 5000 iterations\n",
    "    learning_rate = min_learning_rate + (max_learning_rate - min_learning_rate) * math.exp(-i/decay_speed)\n",
    "        \n",
    "    # load batch of images and correct answers\n",
    "    batch_X , batch_Y = next_batch(train_images, train_label_bits)\n",
    "        \n",
    "    # train\n",
    "    sess.run(train_step, feed_dict = {X: batch_X, Y_: batch_Y, lr: learning_rate})\n",
    "    \n",
    "    if (i + 1) % ACCURACY_CHECK == 0:\n",
    "        batch_X , batch_Y = next_batch(train_images, train_label_bits)\n",
    "        a , c = sess.run([accuracy, cross_entropy], feed_dict = {X: batch_X, Y_: batch_Y})\n",
    "        print(i + 1, \":\" , a, c, learning_rate)\n",
    "    \n",
    "    \n",
    "sess.close()"
   ]
  }
 ],
 "metadata": {
  "anaconda-cloud": {},
  "kernelspec": {
   "display_name": "Python [conda root]",
   "language": "python",
   "name": "conda-root-py"
  },
  "language_info": {
   "codemirror_mode": {
    "name": "ipython",
    "version": 3
   },
   "file_extension": ".py",
   "mimetype": "text/x-python",
   "name": "python",
   "nbconvert_exporter": "python",
   "pygments_lexer": "ipython3",
   "version": "3.5.2"
  }
 },
 "nbformat": 4,
 "nbformat_minor": 2
}
