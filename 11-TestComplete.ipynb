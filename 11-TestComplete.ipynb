{
 "cells": [
  {
   "cell_type": "code",
   "execution_count": 1,
   "metadata": {
    "collapsed": true
   },
   "outputs": [],
   "source": [
    "import os\n",
    "import time\n",
    "import pandas as pd\n",
    "import numpy as np\n",
    "import matplotlib.image as mpimg\n",
    "import matplotlib.pyplot as plt\n",
    "import tensorflow as tf\n",
    "import math\n",
    "from tensorflow.python.framework import ops"
   ]
  },
  {
   "cell_type": "code",
   "execution_count": 2,
   "metadata": {
    "collapsed": false
   },
   "outputs": [
    {
     "data": {
      "text/plain": [
       "(990, 85, 54, 1)"
      ]
     },
     "execution_count": 2,
     "metadata": {},
     "output_type": "execute_result"
    }
   ],
   "source": [
    "# load attributes \n",
    "data_dir = os.getcwd() + '\\\\Data\\\\'\n",
    "train_data = pd.read_csv(data_dir + 'train.csv')\n",
    "train_labels = pd.read_csv(data_dir + 'train_labels.csv')\n",
    "train_label_bits = np.genfromtxt(data_dir + 'train_label_bits.csv', delimiter=',', dtype=np.float32) \n",
    "\n",
    "# loading revised images\n",
    "image_dir = data_dir + 'images\\\\res_rev_05\\\\' \n",
    "\n",
    "# total count of samples\n",
    "sample_count = 1584\n",
    "\n",
    "# load images\n",
    "images = []\n",
    "for image_label in range(sample_count):\n",
    "    image = mpimg.imread(image_dir + str(image_label + 1) + '.jpg')\n",
    "    images.append(image)\n",
    "    \n",
    "images = np.array(images)\n",
    "\n",
    "train_images = images[train_data['id'] - 1]\n",
    "train_images = np.reshape(train_images, (len(train_data), images[0].shape[0], images[0].shape[1], -1))\n",
    "train_images.shape"
   ]
  },
  {
   "cell_type": "code",
   "execution_count": 3,
   "metadata": {
    "collapsed": false
   },
   "outputs": [
    {
     "name": "stdout",
     "output_type": "stream",
     "text": [
      "Image Count:  1584\n",
      "Image Size:  85 X 54\n",
      "Train Count:  990\n",
      "Specy Count:  99\n"
     ]
    }
   ],
   "source": [
    "TOTAL_COUNT = len(images)\n",
    "TRAIN_COUNT = len(train_data) # training image count in input csv file\n",
    "IMAGE_WIDTH  = images[0].shape[0] # input image width\n",
    "IMAGE_HEIGHT = images[0].shape[1] # input image height\n",
    "OUTPUT_TYPE_COUNT = len(list(set(train_data['species'])))\n",
    "print('Image Count: ', TOTAL_COUNT)\n",
    "print('Image Size: ', IMAGE_WIDTH , 'X' , IMAGE_HEIGHT)\n",
    "print('Train Count: ', TRAIN_COUNT)\n",
    "print('Specy Count: ', OUTPUT_TYPE_COUNT)"
   ]
  },
  {
   "cell_type": "code",
   "execution_count": 4,
   "metadata": {
    "collapsed": false
   },
   "outputs": [],
   "source": [
    "TEST_COUNT = 190 # splitting data to test the model\n",
    "train_X = train_images[:-TEST_COUNT]\n",
    "test_X = train_images[-TEST_COUNT:]\n",
    "train_Y = train_label_bits[:-TEST_COUNT]\n",
    "test_Y = train_label_bits[-TEST_COUNT:]"
   ]
  },
  {
   "cell_type": "code",
   "execution_count": 5,
   "metadata": {
    "collapsed": true
   },
   "outputs": [],
   "source": [
    "# reading other features\n",
    "temp = train_data.copy().sort_values(by = ['species']).copy()\n",
    "margins = temp.values[:,2:66].copy()\n",
    "train_margins = margins[:-TEST_COUNT]\n",
    "test_margins = margins[-TEST_COUNT:]\n",
    "\n",
    "shapes = temp.values[:,66:130].copy()\n",
    "train_shapes = shapes[:-TEST_COUNT]\n",
    "test_shapes = shapes[-TEST_COUNT:]\n",
    "\n",
    "textures =temp.values[:,130:199].copy()\n",
    "train_textures = textures[:-TEST_COUNT]\n",
    "test_textures = textures[-TEST_COUNT:]"
   ]
  },
  {
   "cell_type": "code",
   "execution_count": 6,
   "metadata": {
    "collapsed": true
   },
   "outputs": [],
   "source": [
    "# the batch size equals to BATCH_SIZE it will\n",
    "# starts from 0 to until the last index of\n",
    "# batch equals to TOTAL_COUNT\n",
    "BATCH_COUNTER = 0\n",
    "\n",
    "def next_batch(all_images, margins, shapes, textures, all_labels):\n",
    "    \n",
    "    # accessing BATCH_COUNTER inside function\n",
    "    global BATCH_COUNTER\n",
    "    \n",
    "    # check if exceeds to the last index then reset batch_counter\n",
    "    if BATCH_COUNTER == len(all_labels) / BATCH_SIZE:\n",
    "        BATCH_COUNTER = 0\n",
    "\n",
    "    # setting first and last index of data\n",
    "    index_from = BATCH_COUNTER * BATCH_SIZE\n",
    "    index_to   = (BATCH_COUNTER + 1) * BATCH_SIZE\n",
    "    \n",
    "    # loading a batch of training images and labels\n",
    "    image_batch = all_images[index_from:index_to]\n",
    "    shape_batch = shapes[index_from:index_to]\n",
    "    margin_batch = margins[index_from:index_to]\n",
    "    texture_batch = textures[index_from:index_to]\n",
    "    label_batch = all_labels[index_from:index_to]\n",
    "    \n",
    "    # incrementing batch_counter for the next iteration\n",
    "    BATCH_COUNTER += 1 \n",
    "    \n",
    "    return image_batch, margin_batch, shape_batch, texture_batch, label_batch;"
   ]
  },
  {
   "cell_type": "code",
   "execution_count": 7,
   "metadata": {
    "collapsed": false
   },
   "outputs": [
    {
     "name": "stdout",
     "output_type": "stream",
     "text": [
      "Train: 100 : 0.91 44.0667 0.0028599449585957402\n",
      "Test: 100 : 0.405263 261.886 0.0028599449585957402\n",
      "Train: 200 : 0.99 5.98062 0.0027253408546186733\n",
      "Test: 200 : 0.410526 375.765 0.0027253408546186733\n",
      "Train: 300 : 1.0 1.08807 0.002597301470257133\n",
      "Test: 300 : 0.447368 468.232 0.002597301470257133\n",
      "Train: 400 : 1.0 4.94578 0.00247550664035748\n",
      "Test: 400 : 0.389474 430.95 0.00247550664035748\n",
      "Train: 500 : 1.0 0.114193 0.00235965181440487\n",
      "Test: 500 : 0.447368 497.51 0.00235965181440487\n",
      "Train: 600 : 1.0 0.0867965 0.0022494472949883388\n",
      "Test: 600 : 0.457895 522.431 0.0022494472949883388\n",
      "Train: 700 : 1.0 0.0424672 0.002144617513406374\n",
      "Test: 700 : 0.468421 539.893 0.002144617513406374\n",
      "Train: 800 : 1.0 0.0450315 0.002044900340601626\n",
      "Test: 800 : 0.478947 553.898 0.002044900340601626\n",
      "Train: 900 : 1.0 0.0260005 0.0019500464317017275\n",
      "Test: 900 : 0.478947 565.506 0.0019500464317017275\n",
      "Train: 1000 : 1.0 0.029477 0.001859818602527234\n",
      "Test: 1000 : 0.478947 575.264 0.001859818602527234\n"
     ]
    }
   ],
   "source": [
    "ITERATION_COUNT = 1000\n",
    "ACCURACY_CHECK = 100\n",
    "BATCH_SIZE = 100\n",
    "PKEEP = 0.75\n",
    "\n",
    "C0 = 1   # input channel count\n",
    "C1 = 4   # convolutional network channel 1 count \n",
    "C2 = 8   # convolutional network channel 2 count\n",
    "C3 = 12   # convolutional network channel 3 count\n",
    "C4 = 64  # fulley connected layer size\n",
    "C5 = OUTPUT_TYPE_COUNT  # output count \n",
    "\n",
    "# Probability of keeping a node during dropout \n",
    "pkeep = tf.placeholder(tf.float32)\n",
    "\n",
    "def compatible_convolutional_noise_shape(Y):\n",
    "    noiseshape = tf.shape(Y)\n",
    "    noiseshape = noiseshape * tf.constant([1,0,0,1]) + tf.constant([0,1,1,0])\n",
    "    return noiseshape\n",
    "\n",
    "# weights\n",
    "W1 = tf.Variable(tf.truncated_normal([2, 2, C0, C1], stddev = 0.1)) \n",
    "W2 = tf.Variable(tf.truncated_normal([5, 5, C1, C2], stddev = 0.1))\n",
    "W3 = tf.Variable(tf.truncated_normal([4, 4, C2, C3], stddev = 0.1))\n",
    "W4 = tf.Variable(tf.truncated_normal([11 * 7 * C3 , C4], stddev = 0.1))\n",
    "W5 = tf.Variable(tf.truncated_normal([C4 * 4, C5], stddev = 0.1))\n",
    "\n",
    "# biases\n",
    "B1 = tf.Variable(tf.ones([C1]) / 10)\n",
    "B2 = tf.Variable(tf.ones([C2]) / 10)\n",
    "B3 = tf.Variable(tf.ones([C3]) / 10)\n",
    "B4 = tf.Variable(tf.ones([C4]) / 10)\n",
    "B5 = tf.Variable(tf.ones([C5]) / 10)\n",
    "\n",
    "# model\n",
    "stride1 = 1  # output is 85x54\n",
    "X   = tf.placeholder(tf.float32, shape=[None, IMAGE_WIDTH, IMAGE_HEIGHT, C0])\n",
    "Y1  = tf.nn.relu(tf.nn.conv2d(X, W1, strides=[1, stride1, stride1, 1], padding='SAME') + B1)\n",
    "Y1m = tf.nn.max_pool(Y1,ksize = [1, 2, 2, 1], strides = [1, 1, 1, 1], padding='SAME')\n",
    "Y1d = tf.nn.dropout(Y1, pkeep, compatible_convolutional_noise_shape(Y1))\n",
    "stride2 = 4  # output is 43x27\n",
    "Y2 = tf.nn.relu(tf.nn.conv2d(Y1m, W2, strides=[1, stride2, stride2, 1], padding='SAME') + B2)\n",
    "Y2m = tf.nn.max_pool(Y2,ksize = [1, 2, 2, 1], strides = [1, 1, 1, 1], padding='SAME')\n",
    "#Y2 = tf.nn.dropout(Y2r, pkeep, compatible_convolutional_noise_shape(Y2m))\n",
    "stride3 = 2  # output is 22x14\n",
    "Y3 = tf.nn.relu(tf.nn.conv2d(Y2m, W3, strides=[1, stride3, stride3, 1], padding='SAME') + B3)\n",
    "Y3m = tf.nn.max_pool(Y3,ksize = [1, 2, 2, 1], strides = [1, 1, 1, 1], padding='SAME')\n",
    "Y3d = tf.nn.dropout(Y3m, pkeep, compatible_convolutional_noise_shape(Y3m))\n",
    "\n",
    "# reshape the output from the third convolution for the fully connected layer\n",
    "YY = tf.reshape(Y3m, shape=[-1, 11 * 7 * C3])\n",
    "Y4 = tf.nn.relu(tf.matmul(YY, W4) + B4, name='4')\n",
    "\n",
    "# concating other feature to flattened layer\n",
    "MAR = tf.placeholder(tf.float32, shape=[None, 64])\n",
    "SHP = tf.placeholder(tf.float32, shape=[None, 64])\n",
    "TXT = tf.placeholder(tf.float32, shape=[None, 64])\n",
    "STK = tf.stack([Y4, MAR, SHP, TXT], -1, name='stack') \n",
    "\n",
    "# softmax layer\n",
    "Y4_ = tf.reshape(STK, (-1, 64 * 4), name='reshape')\n",
    "Ylogits = tf.matmul(Y4_, W5) + B5\n",
    "Y = tf.nn.softmax(Ylogits, name='5')\n",
    "\n",
    "# paceholder for learing_rate variable\n",
    "lr = tf.placeholder(tf.float32)\n",
    "    \n",
    "# placeholder for correct answers\n",
    "Y_ = tf.placeholder(tf.float32, [None, C5])\n",
    "    \n",
    "cross_entropy = tf.nn.softmax_cross_entropy_with_logits(logits = Ylogits, labels = Y_)\n",
    "cross_entropy = tf.reduce_mean(cross_entropy) * 100\n",
    "    \n",
    "# accuracy of the trained model, between 0 (worst) and 1 (best)\n",
    "correct_prediction = tf.equal(tf.argmax(Y, 1), tf.argmax(Y_, 1))\n",
    "accuracy = tf.reduce_mean(tf.cast(correct_prediction, tf.float32))\n",
    "    \n",
    "# training step, the learning rate is a placeholder\n",
    "train_step = tf.train.AdamOptimizer(lr).minimize(cross_entropy)\n",
    "\n",
    "# initialisation & start computation\n",
    "init = tf.global_variables_initializer()\n",
    "sess = tf.Session()\n",
    "tf.reset_default_graph()\n",
    "tf.set_random_seed(0)\n",
    "sess.run(init)\n",
    "    \n",
    "for i in range(ITERATION_COUNT):\n",
    "    \n",
    "    # learning rate decay\n",
    "    max_learning_rate = 0.003\n",
    "    min_learning_rate = 0.0001\n",
    "    decay_speed = 2000.0 \n",
    "    learning_rate = min_learning_rate + (max_learning_rate - min_learning_rate) * math.exp(-i/decay_speed)\n",
    "        \n",
    "    # load batch of images and correct answers\n",
    "    batch_X , mar, shp, txt, batch_Y = next_batch(train_X, train_margins, train_shapes, train_shapes, train_Y)\n",
    "        \n",
    "    # train\n",
    "    sess.run(train_step, feed_dict = {X: batch_X, Y_: batch_Y, MAR: mar, SHP: shp, TXT: txt, lr: learning_rate, pkeep: PKEEP})\n",
    "    \n",
    "    if (i + 1) % ACCURACY_CHECK == 0:\n",
    "\n",
    "        # train validation\n",
    "        a , c = sess.run([accuracy, cross_entropy], feed_dict = {X: batch_X, Y_: batch_Y, MAR: mar, SHP: shp, TXT: txt, pkeep: 1.0})\n",
    "        print('Train:', i + 1, \":\" , a, c, learning_rate)\n",
    "        \n",
    "        # test validation\n",
    "        a , c = sess.run([accuracy, cross_entropy], feed_dict = {X: test_X, Y_: test_Y, MAR: test_margins, SHP: test_shapes, TXT: test_textures, pkeep: 1.0})\n",
    "        print('Test:', i + 1, \":\" , a, c, learning_rate)\n",
    "    \n",
    "a, c, y1, w1, y, y1d, y1m, yy, y4, ylogits, y_, y2, y2m, y3, y3m, y3d, w2, w3, w4, y4_, stk, w5, b5,b4 = sess.run([accuracy, cross_entropy, Y1, W1, Y, Y1d, Y1m, YY, Y4, Ylogits, Y_, Y2, Y2m, Y3, Y3m, Y3d, W2, W3, W4, Y4_, STK, W5, B5,B4], feed_dict =  {X: test_X, Y_: test_Y, MAR: test_margins, SHP: test_shapes, TXT: test_textures, pkeep: 1.0})\n"
   ]
  },
  {
   "cell_type": "code",
   "execution_count": 8,
   "metadata": {
    "collapsed": false
   },
   "outputs": [
    {
     "name": "stdout",
     "output_type": "stream",
     "text": [
      "(190, 64) (924, 64) (190, 256) (256, 99) (99,) (64,) (190, 64, 4)\n"
     ]
    }
   ],
   "source": [
    "print(y4.shape, w4.shape, y4_.shape, w5.shape, b5.shape, b4.shape, stk.shape)\n"
   ]
  },
  {
   "cell_type": "code",
   "execution_count": 9,
   "metadata": {
    "collapsed": false
   },
   "outputs": [],
   "source": [
    "sess.close()"
   ]
  }
 ],
 "metadata": {
  "anaconda-cloud": {},
  "kernelspec": {
   "display_name": "Python [conda root]",
   "language": "python",
   "name": "conda-root-py"
  },
  "language_info": {
   "codemirror_mode": {
    "name": "ipython",
    "version": 3
   },
   "file_extension": ".py",
   "mimetype": "text/x-python",
   "name": "python",
   "nbconvert_exporter": "python",
   "pygments_lexer": "ipython3",
   "version": "3.5.2"
  }
 },
 "nbformat": 4,
 "nbformat_minor": 2
}
