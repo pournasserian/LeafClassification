{
 "cells": [
  {
   "cell_type": "code",
   "execution_count": 1,
   "metadata": {
    "collapsed": true
   },
   "outputs": [],
   "source": [
    "import os\n",
    "import pandas as pd\n",
    "import numpy as np\n",
    "import matplotlib\n",
    "import matplotlib.image as mpimg\n",
    "import matplotlib.pyplot as plt\n",
    "import matplotlib.gridspec as gridspec"
   ]
  },
  {
   "cell_type": "code",
   "execution_count": 10,
   "metadata": {
    "collapsed": true
   },
   "outputs": [],
   "source": [
    "from PIL import Image, ImageChops, ImageOps\n",
    "\n",
    "def resize_image(f_in, f_out, scale = 0.04):\n",
    "\n",
    "    image = Image.open(f_in)\n",
    "    new_size = int(scale * image.size[0]), int(scale * image.size[1])\n",
    "    resized_image = image.resize(new_size, Image.ANTIALIAS)\n",
    "    resized_image.save(f_out)"
   ]
  },
  {
   "cell_type": "code",
   "execution_count": 11,
   "metadata": {
    "collapsed": false
   },
   "outputs": [],
   "source": [
    "# loadin revised images\n",
    "image_dir = os.getcwd() + '\\\\Data\\\\images\\\\'\n",
    "image_dir_src = image_dir + 'rev\\\\' \n",
    "image_dir_dest = image_dir + 'res_rev_04\\\\' \n",
    "\n",
    "# total count of samples\n",
    "sample_count = 1584\n",
    "\n",
    "# load images and then resize/save to res_rev \n",
    "images = []\n",
    "for image_label in range(sample_count):\n",
    "    img_src = image_dir_src + str(image_label + 1) + '.jpg'\n",
    "    img_dest = image_dir_dest + str(image_label + 1) + '.jpg'\n",
    "    resize_image(img_src, img_dest)"
   ]
  }
 ],
 "metadata": {
  "kernelspec": {
   "display_name": "Python [conda root]",
   "language": "python",
   "name": "conda-root-py"
  },
  "language_info": {
   "codemirror_mode": {
    "name": "ipython",
    "version": 3
   },
   "file_extension": ".py",
   "mimetype": "text/x-python",
   "name": "python",
   "nbconvert_exporter": "python",
   "pygments_lexer": "ipython3",
   "version": "3.5.2"
  }
 },
 "nbformat": 4,
 "nbformat_minor": 2
}
