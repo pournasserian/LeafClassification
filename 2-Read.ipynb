{
 "cells": [
  {
   "cell_type": "code",
   "execution_count": 1,
   "metadata": {
    "collapsed": true
   },
   "outputs": [],
   "source": [
    "import os\n",
    "import time\n",
    "import pandas as pd\n",
    "import numpy as np\n",
    "import matplotlib\n",
    "import matplotlib.image as mpimg\n",
    "import matplotlib.pyplot as plt\n",
    "import matplotlib.gridspec as gridspec"
   ]
  },
  {
   "cell_type": "code",
   "execution_count": 2,
   "metadata": {
    "collapsed": false
   },
   "outputs": [],
   "source": [
    "#%% load the data\n",
    "data_dir = os.getcwd() + '\\\\Data\\\\'\n",
    "image_dir = data_dir + 'images\\\\rev\\\\' \n",
    "\n",
    "# total count of samples\n",
    "sample_count = 1584\n",
    "\n",
    "# load images\n",
    "images = []\n",
    "for image_label in range(sample_count):\n",
    "    image = mpimg.imread(image_dir + str(image_label + 1) + '.jpg')\n",
    "    images.append(image)\n",
    "    \n",
    "images = np.array(images)"
   ]
  },
  {
   "cell_type": "code",
   "execution_count": 3,
   "metadata": {
    "collapsed": false
   },
   "outputs": [],
   "source": [
    "# load attributes \n",
    "train_data = pd.read_csv(data_dir + 'train.csv')\n",
    "train_ids = train_data.ix[:, 'id']\n",
    "train_labels = train_data.ix[:, 'species']\n",
    "train_margins = train_data.iloc[:, 1:66]\n",
    "train_shapes = train_data.iloc[:, 66: 130]\n",
    "train_textures = train_data.iloc[:, 130: 194]"
   ]
  },
  {
   "cell_type": "code",
   "execution_count": 4,
   "metadata": {
    "collapsed": true
   },
   "outputs": [],
   "source": [
    "TOTAL_COUNT = len(train_data) # training image count in input csv file\n",
    "IMAGE_WIDTH  = images[0].shape[0] # input image width\n",
    "IMAGE_HEIGHT = images[0].shape[1] # input image height\n",
    "OUTPUT_TYPE_COUNT = len(list(set(train_labels)))"
   ]
  },
  {
   "cell_type": "code",
   "execution_count": 5,
   "metadata": {
    "collapsed": false
   },
   "outputs": [],
   "source": [
    "train_images = np.reshape(images[train_ids - 1], (TOTAL_COUNT, IMAGE_WIDTH, IMAGE_HEIGHT, -1))\n",
    "\n",
    "train_label_ids = []\n",
    "label_ids = np.array(list(set(train_labels)))\n",
    "for i in range(len(train_labels)):\n",
    "    train_label_ids.append([np.where(label_ids == train_labels[i])[0][0]])\n",
    "    \n",
    "train_label_ids = np.array(train_label_ids)\n",
    "train_label_bits = np.zeros(shape=(TOTAL_COUNT,OUTPUT_TYPE_COUNT))\n",
    "\n",
    "for i in range(OUTPUT_TYPE_COUNT):\n",
    "    train_label_bits[i][train_label_ids[i]] = 1"
   ]
  },
  {
   "cell_type": "code",
   "execution_count": 6,
   "metadata": {
    "collapsed": true
   },
   "outputs": [],
   "source": [
    "import tensorflow as tf\n",
    "import math"
   ]
  },
  {
   "cell_type": "code",
   "execution_count": 7,
   "metadata": {
    "collapsed": false
   },
   "outputs": [],
   "source": [
    "# parameters\n",
    "BATCH_SIZE = 100\n",
    "ITERATION_COUNT = 1000\n",
    "ACCURACY_CHECK = 20"
   ]
  },
  {
   "cell_type": "code",
   "execution_count": 8,
   "metadata": {
    "collapsed": true
   },
   "outputs": [],
   "source": [
    "# the batch size equals to BATCH_SIZE it will\n",
    "# starts from 0 to until the last index of\n",
    "# batch equals to TOTAL_COUNT\n",
    "BATCH_COUNTER = 0\n",
    "\n",
    "def next_batch(all_images, all_labels):\n",
    "    \n",
    "    # accessing BATCH_COUNTER inside function\n",
    "    global BATCH_COUNTER\n",
    "    \n",
    "    # check if exceeds to the last index then reset batch_counter\n",
    "    if BATCH_COUNTER == len(all_labels) / BATCH_SIZE:\n",
    "        BATCH_COUNTER = 0\n",
    "\n",
    "    # setting first and last index of data\n",
    "    index_from = BATCH_COUNTER * BATCH_SIZE\n",
    "    index_to   = (BATCH_COUNTER + 1) * BATCH_SIZE\n",
    "    \n",
    "    # loading a batch of training images and labels\n",
    "    image_batch = all_images[index_from:index_to]\n",
    "    label_batch = all_labels[index_from:index_to]\n",
    "    \n",
    "    # incrementing batch_counter for the next iteration\n",
    "    BATCH_COUNTER += 1 \n",
    "    \n",
    "    return image_batch, label_batch;"
   ]
  },
  {
   "cell_type": "code",
   "execution_count": null,
   "metadata": {
    "collapsed": true
   },
   "outputs": [],
   "source": [
    "def train_model(images, labels):\n",
    "    \n",
    "    image_width  = images[0].shape[0]\n",
    "    image_height = images[0].shape[1]\n",
    "    \n",
    "    C0 = 1   # input channel count\n",
    "    C1 = 4   # convolutional network channel 1 count \n",
    "    C2 = 8   # convolutional network channel 2 count\n",
    "    C3 = 12  # convolutional network channel 3 count\n",
    "    C4 = 200 # fulley connected layer size\n",
    "    C5 = OUTPUT_TYPE_COUNT  # output count \n",
    "    \n",
    "    # weights\n",
    "    W1 = tf.Variable(tf.truncated_normal([5, 5, C0, C1], stddev = 0.1)) \n",
    "    W2 = tf.Variable(tf.truncated_normal([5, 5, C1, C2], stddev = 0.1))\n",
    "    W3 = tf.Variable(tf.truncated_normal([4, 4, C2, C3], stddev = 0.1))\n",
    "    W4 = tf.Variable(tf.truncated_normal([7 * 7 * C3, C4], stddev = 0.1))\n",
    "    W5 = tf.Variable(tf.truncated_normal([C4, C5], stddev = 0.1))\n",
    "    \n",
    "    # biases\n",
    "    B1 = tf.Variable(tf.ones([C1]) / 10)\n",
    "    B2 = tf.Variable(tf.ones([C2]) / 10)\n",
    "    B3 = tf.Variable(tf.ones([C3]) / 10)\n",
    "    B4 = tf.Variable(tf.ones([C4]) / 10)\n",
    "    B5 = tf.Variable(tf.ones([C5]) / 10)\n",
    "\n",
    "    # model\n",
    "    stride = 1  # output is 28x28\n",
    "    X   = tf.placeholder(tf.float32, shape=[None, image_width, image_height, C0])\n",
    "    Y1  = tf.nn.relu(tf.nn.conv2d(X, W1, strides=[1, stride, stride, 1], padding='SAME') + B1)\n",
    "    stride = 2  # output is 14x14\n",
    "    Y2 = tf.nn.relu(tf.nn.conv2d(Y1, W2, strides=[1, stride, stride, 1], padding='SAME') + B2)\n",
    "    stride = 2  # output is 7x7\n",
    "    Y3 = tf.nn.relu(tf.nn.conv2d(Y2, W3, strides=[1, stride, stride, 1], padding='SAME') + B3)\n",
    "    \n",
    "    # reshape the output from the third convolution for the fully connected layer\n",
    "    YY = tf.reshape(Y3, shape=[-1, 7 * 7 * C3])\n",
    "    Y4 = tf.nn.relu(tf.matmul(YY, W4) + B4)\n",
    "    Ylogits = tf.matmul(Y4, W5) + B5\n",
    "    Y = tf.nn.softmax(Ylogits)\n",
    "                      \n",
    "    # paceholder for learing_rate variable\n",
    "    lr = tf.placeholder(tf.float32)\n",
    "    \n",
    "    # placeholder for correct answers\n",
    "    Y_ = tf.placeholder(tf.float32, [None, C5])\n",
    "    \n",
    "    cross_entropy = tf.nn.softmax_cross_entropy_with_logits(logits = Ylogits, labels = Y_)\n",
    "    cross_entropy = tf.reduce_mean(cross_entropy) * 100\n",
    "    \n",
    "    # accuracy of the trained model, between 0 (worst) and 1 (best)\n",
    "    correct_prediction = tf.equal(tf.argmax(Y, 1), tf.argmax(Y_, 1))\n",
    "    accuracy = tf.reduce_mean(tf.cast(correct_prediction, tf.float32))\n",
    "    \n",
    "    # training step, the learning rate is a placeholder\n",
    "    train_step = tf.train.AdamOptimizer(lr).minimize(cross_entropy)\n",
    "\n",
    "    # initialisation\n",
    "    tf.set_random_seed(0)\n",
    "    init = tf.global_variables_initializer()\n",
    "\n",
    "    # start computation\n",
    "    sess = tf.Session()\n",
    "    sess.run(init)\n",
    "    \n",
    "    # preparing return values\n",
    "    counter = 0 \n",
    "    upper_bound = int(ITERATION_COUNT / ACCURACY_CHECK)\n",
    "    train_accuracy = np.zeros(upper_bound)\n",
    "    train_loss = np.zeros(upper_bound)\n",
    "    test_accuracy = np.zeros(upper_bound)\n",
    "    test_loss = np.zeros(upper_bound)\n",
    "    learning_rates = np.zeros(1)\n",
    "    \n",
    "    for i in range(ITERATION_COUNT):\n",
    "        print(i)\n",
    "        # learning rate decay\n",
    "        max_learning_rate = 0.003\n",
    "        min_learning_rate = 0.0001\n",
    "        decay_speed = 2000.0 # 0.003-0.0001-2000=>0.9826 done in 5000 iterations\n",
    "        learning_rate = min_learning_rate + (max_learning_rate - min_learning_rate) * math.exp(-i/decay_speed)\n",
    "        \n",
    "        # load batch of images and correct answers\n",
    "        batch_X , batch_Y = next_batch(images,labels)\n",
    "        \n",
    "        # train\n",
    "        sess.run(train_step, feed_dict = {X: batch_X, Y_: batch_Y, lr: learning_rate})\n",
    "        \n",
    "        if i % ACCURACY_CHECK == 0:\n",
    "\n",
    "            a , c = sess.run([accuracy, cross_entropy], feed_dict = {X: batch_X, Y_: batch_Y})\n",
    "            train_accuracy[counter] = a\n",
    "            train_loss[counter] = c\n",
    "            \n",
    "            #test_data = {X: mnist_data.test.images, Y_: mnist_data.test.labels}\n",
    "            #pred, a , c = sess.run([Y, accuracy, cross_entropy], feed_dict = test_data)\n",
    "            #predictions = tf.argmax(pred,1).eval(session=sess)\n",
    "            #print('{}- Accuracy: {}, Learning Rate: {}'.format(i, a, learning_rate))\n",
    "            #test_accuracy[counter] = a\n",
    "            #test_loss[counter] = c\n",
    "            \n",
    "            counter += 1\n",
    "    \n",
    "    #learning_rates[0] = learning_rate\n",
    "    #acc = accuracy.eval(session = sess, feed_dict = {X: mnist_data.test.images, Y_: mnist_data.test.labels})\n",
    "    #print('Learning Rate: {}, Accuracy: {}'.format(learning_rate, acc))\n",
    "    sess.close()\n",
    "    \n",
    "    return train_accuracy, train_loss, test_accuracy, test_loss, predictions, learning_rates;"
   ]
  },
  {
   "cell_type": "code",
   "execution_count": null,
   "metadata": {
    "collapsed": false
   },
   "outputs": [
    {
     "name": "stdout",
     "output_type": "stream",
     "text": [
      "0\n"
     ]
    }
   ],
   "source": [
    "train_accuracy = []\n",
    "train_loss = []\n",
    "learning_rates = []\n",
    "\n",
    "train_images1 = np.reshape(train_images, (990, IMAGE_WIDTH, IMAGE_HEIGHT, -1))\n",
    "\n",
    "%time lr, ta, tl = train_model(train_images1, train_label_bits)\n",
    "\n",
    "acc_check = np.arange(0, len(lr))\n",
    "learning_rates.append(lr)\n",
    "train_accuracy.append(ta)\n",
    "train_loss.append(tl)"
   ]
  }
 ],
 "metadata": {
  "anaconda-cloud": {},
  "kernelspec": {
   "display_name": "Python [conda root]",
   "language": "python",
   "name": "conda-root-py"
  },
  "language_info": {
   "codemirror_mode": {
    "name": "ipython",
    "version": 3
   },
   "file_extension": ".py",
   "mimetype": "text/x-python",
   "name": "python",
   "nbconvert_exporter": "python",
   "pygments_lexer": "ipython3",
   "version": "3.5.2"
  }
 },
 "nbformat": 4,
 "nbformat_minor": 2
}
